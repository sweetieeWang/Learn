{
 "cells": [
  {
   "cell_type": "markdown",
   "metadata": {},
   "source": [
    "# python print函数"
   ]
  },
  {
   "cell_type": "code",
   "execution_count": 1,
   "metadata": {},
   "outputs": [
    {
     "name": "stdout",
     "output_type": "stream",
     "text": [
      "5\n"
     ]
    }
   ],
   "source": [
    "a = 2\n",
    "b = 3\n",
    "print(a , b)"
   ]
  },
  {
   "cell_type": "markdown",
   "metadata": {},
   "source": [
    "# 数据类型"
   ]
  },
  {
   "cell_type": "code",
   "execution_count": 23,
   "metadata": {},
   "outputs": [],
   "source": [
    "X = np.array([[1,2,3],\n",
    "    [4,5,6]])"
   ]
  },
  {
   "cell_type": "code",
   "execution_count": 24,
   "metadata": {},
   "outputs": [
    {
     "name": "stdout",
     "output_type": "stream",
     "text": [
      "0.02\n",
      "<class 'int'>\n",
      "<class 'int'>\n",
      "<class 'float'>\n"
     ]
    }
   ],
   "source": [
    "print(X.shape[0]/100)\n",
    "print(type(X.shape[0]//100)) # 整除\n",
    "print(type(int(X.shape[0]/100))) # 强制类型转换\n",
    "print(type(X.shape[0]/100))"
   ]
  },
  {
   "cell_type": "markdown",
   "metadata": {},
   "source": [
    "# python for 循环"
   ]
  },
  {
   "cell_type": "code",
   "execution_count": 3,
   "metadata": {},
   "outputs": [
    {
     "name": "stdout",
     "output_type": "stream",
     "text": [
      "[3, 4, 5, 1, 2]\n",
      "[1, 2, 3, 4, 5]\n"
     ]
    }
   ],
   "source": [
    "arr = [3,4,5,1,2]\n",
    "print (arr)\n",
    "def bubbleSort(arr):  \n",
    "    for i in range(1, len(arr)):\n",
    "        for j in range(0, len(arr)-i):\n",
    "            if arr[j] > arr[j,1]:\n",
    "                arr[j], arr[j,1] = arr[j,1], arr[j]\n",
    "    return arr\n",
    "bubbleSort(arr)\n",
    "print(arr)"
   ]
  },
  {
   "cell_type": "markdown",
   "metadata": {},
   "source": [
    "# 阶乘"
   ]
  },
  {
   "cell_type": "code",
   "execution_count": 15,
   "metadata": {},
   "outputs": [],
   "source": [
    "import math\n",
    "a = (math.exp(-1)/math.factorial(3))*0.4\n",
    "b = (math.pow(1.5, 3)*(math.exp(-1.5)/math.factorial(3)))*0.6\n",
    "c = a + b\n",
    "print(c)\n",
    "print(a/c)\n",
    "print(b/c)"
   ]
  },
  {
   "cell_type": "markdown",
   "metadata": {},
   "source": [
    "## list 初始化"
   ]
  },
  {
   "cell_type": "code",
   "execution_count": 6,
   "metadata": {},
   "outputs": [
    {
     "name": "stdout",
     "output_type": "stream",
     "text": [
      "[0, 0, 0]\n",
      "[0, 0, 0]\n",
      "[[0], [0], [0], [0], [0], [0], [0], [0], [0], [0], [0], [0]]\n"
     ]
    }
   ],
   "source": [
    "\n",
    "# 1d array\n",
    "l1 = [0 for _ in range(3)]\n",
    "print(l1)\n",
    "# or\n",
    "l2 = [0] * len(range(3))\n",
    "print(l2)\n",
    "# 2d\n",
    "l3 = [[0] for i in range(3) for j in range(4)]\n",
    "print(l3)"
   ]
  },
  {
   "cell_type": "markdown",
   "metadata": {},
   "source": [
    "# list 倒序遍历"
   ]
  },
  {
   "cell_type": "code",
   "execution_count": 12,
   "metadata": {},
   "outputs": [
    {
     "name": "stdout",
     "output_type": "stream",
     "text": [
      "4\n",
      "[3, 4]\n",
      "0\n",
      "-1\n",
      "-2\n",
      "-3\n",
      "-4\n",
      "-5\n",
      "-6\n",
      "-7\n",
      "-8\n",
      "-9\n"
     ]
    }
   ],
   "source": [
    "l = [1, 2, 3, 4]\n",
    "lastElement = l[-1]\n",
    "print(lastElement)\n",
    "\n",
    "lastTwo = l[-2:]\n",
    "print(lastTwo)\n",
    "\n",
    "for i in range(0, -10, -1):\n",
    "    print(i)"
   ]
  },
  {
   "cell_type": "markdown",
   "metadata": {},
   "source": [
    "# 枚举 enumerate"
   ]
  },
  {
   "cell_type": "code",
   "execution_count": 13,
   "metadata": {},
   "outputs": [
    {
     "name": "stdout",
     "output_type": "stream",
     "text": [
      "0 a\n",
      "1 b\n",
      "2 c\n"
     ]
    }
   ],
   "source": [
    "l = [\"a\", \"b\", \"c\"]\n",
    "\n",
    "for i, v in enumerate(l):\n",
    "    print(i, v)"
   ]
  },
  {
   "cell_type": "markdown",
   "metadata": {},
   "source": [
    "# zip 将两个数组像拉链一样聚合"
   ]
  },
  {
   "cell_type": "code",
   "execution_count": 15,
   "metadata": {},
   "outputs": [
    {
     "data": {
      "text/plain": [
       "[(1, 4), (2, 5), (3, 6)]"
      ]
     },
     "execution_count": 15,
     "metadata": {},
     "output_type": "execute_result"
    }
   ],
   "source": [
    "x = [1, 2, 3]\n",
    "y = [4, 5, 6]\n",
    "zipped = zip(x, y)\n",
    "list(zipped)"
   ]
  },
  {
   "cell_type": "markdown",
   "metadata": {},
   "source": [
    "# map 将参数一一映射"
   ]
  },
  {
   "cell_type": "code",
   "execution_count": 20,
   "metadata": {},
   "outputs": [
    {
     "name": "stdout",
     "output_type": "stream",
     "text": [
      "2019 15 8\n"
     ]
    }
   ],
   "source": [
    "date = \"2019-8-15\"\n",
    "Y, M, D = map(int, date.split('-'))\n",
    "print(Y, D, M)"
   ]
  },
  {
   "cell_type": "markdown",
   "metadata": {},
   "source": [
    "# 分割字符串"
   ]
  },
  {
   "cell_type": "code",
   "execution_count": 46,
   "metadata": {},
   "outputs": [
    {
     "name": "stdout",
     "output_type": "stream",
     "text": [
      "['welcome', 'to', 'the', 'jungle']\n"
     ]
    }
   ],
   "source": [
    "txt = \"welcome to the jungle\"\n",
    "x = txt.split()\n",
    "print(x)"
   ]
  },
  {
   "cell_type": "code",
   "execution_count": 47,
   "metadata": {},
   "outputs": [
    {
     "name": "stdout",
     "output_type": "stream",
     "text": [
      "['apple', 'banana#cherry#orange']\n"
     ]
    }
   ],
   "source": [
    "txt = \"apple#banana#cherry#orange\"\n",
    "\n",
    "# setting the maxsplit parameter to 1, will return a list with 2 elements!\n",
    "x = txt.split(\"#\", 1)\n",
    "\n",
    "print(x)"
   ]
  },
  {
   "cell_type": "code",
   "execution_count": null,
   "metadata": {},
   "outputs": [],
   "source": [
    "ms = \"jdkjs,shjd.jsdk,sjds,dsf\"\n",
    "str = []\n",
    "dim = ['.', ',']\n",
    "str = ms.split(dim[0])\n",
    "str"
   ]
  },
  {
   "cell_type": "code",
   "execution_count": 68,
   "metadata": {},
   "outputs": [
    {
     "data": {
      "text/plain": [
       "['jdkjs', 'shjd', 'jsdk', 'sjds', 'dsf']"
      ]
     },
     "execution_count": 68,
     "metadata": {},
     "output_type": "execute_result"
    }
   ],
   "source": [
    "line = 'asdf fjdk; afed, fjek,asdf, foo'\n",
    "ms = \"jdkjs,shjd.jsdk,sjds,dsf\"\n",
    "import re\n",
    "re.split(r'[;,\\s]\\s*', line)\n",
    "re.split(r'[,.\\s]\\s*', ms)"
   ]
  },
  {
   "cell_type": "markdown",
   "metadata": {},
   "source": [
    "# 正则匹配re 与文本处理\n",
    "re.sub的函数原型为：re.sub(pattern, repl, string, count)\n",
    "其中第二个函数是替换后的字符串；本例中为'-'\n",
    "第四个参数指替换个数。默认为0，表示每个匹配项都替换。\n",
    "re.sub还允许使用函数对匹配项的替换进行复杂的处理。如：re.sub(r'\\s', lambda m: '[' + m.group(0) + ']', text, 0)；将字符串中的空格' '替换为'[ ]'。"
   ]
  },
  {
   "cell_type": "code",
   "execution_count": 114,
   "metadata": {},
   "outputs": [
    {
     "data": {
      "text/plain": [
       "['今天下午我要去打篮球', '我有一只猫']"
      ]
     },
     "execution_count": 114,
     "metadata": {},
     "output_type": "execute_result"
    }
   ],
   "source": [
    "import re\n",
    "document = ['今天下午，我要去打篮球！', '我有一只猫。']\n",
    "pre_document = [re.sub('[a-zA-Z0-9’!\"#$%&\\'()*+,-./:;<=>?@，。?★、…【】《》？“”‘’！[\\\\]^_`{|}~\\s]+', '', item) for item in document]\n",
    "pre_document\n"
   ]
  },
  {
   "cell_type": "markdown",
   "metadata": {},
   "source": [
    "# deque\n",
    "\n",
    "list 删除末尾的操作是O(1)的，但是删除头操作就是O(n)，这时候我们就需要一个双端队列 deque。首尾的常规操作为：\n",
    "\n",
    "append，添加到末尾\n",
    "appendleft, 添加到开头\n",
    "pop, 剔除末尾\n",
    "popleft，移除开头"
   ]
  },
  {
   "cell_type": "code",
   "execution_count": 71,
   "metadata": {},
   "outputs": [
    {
     "name": "stdout",
     "output_type": "stream",
     "text": [
      "deque([1, 2, 3, 4])\n",
      "deque([1, 2, 3, 4, 5])\n",
      "deque([2, 3, 4, 5])\n",
      "deque(['a', 2, 3, 4, 5])\n",
      "deque(['a', 2, 3, 4])\n"
     ]
    }
   ],
   "source": [
    "from collections import deque\n",
    "\n",
    "li = [1,2,3,4]\n",
    "queue = deque(li) # 从列表创建双向队列（也可以直接创建）\n",
    "print(queue)\n",
    "queue.append(5)  # deque([1, 2, 3, 4, 5])\n",
    "print(queue)\n",
    "queue.popleft()  # deque([2, 3, 4, 5])\n",
    "print(queue)\n",
    "\n",
    "# 双向队列对首进队，队尾出对\n",
    "queue.appendleft('a')  # deque(['a', 2, 3, 4, 5])\n",
    "print(queue)\n",
    "queue.pop()  # deque(['a', 2, 3, 4])\n",
    "print(queue)"
   ]
  },
  {
   "cell_type": "markdown",
   "metadata": {},
   "source": [
    "# sort 和sorted"
   ]
  },
  {
   "cell_type": "code",
   "execution_count": 79,
   "metadata": {},
   "outputs": [
    {
     "data": {
      "text/plain": [
       "[1, 2, 3, 4, 5]"
      ]
     },
     "execution_count": 79,
     "metadata": {},
     "output_type": "execute_result"
    }
   ],
   "source": [
    "l = [3,1,5,2,4]\n",
    "l.sort()\n",
    "l"
   ]
  },
  {
   "cell_type": "code",
   "execution_count": 73,
   "metadata": {},
   "outputs": [
    {
     "data": {
      "text/plain": [
       "[(0, 1), (1, 2), (3, 10)]"
      ]
     },
     "execution_count": 73,
     "metadata": {},
     "output_type": "execute_result"
    }
   ],
   "source": [
    "l1 = [(1,2), (0,1), (3,10) ]\n",
    "\n",
    "l2 = sorted(l1, key=lambda x: x[0])\n",
    "l2"
   ]
  },
  {
   "cell_type": "markdown",
   "metadata": {},
   "source": [
    "cmp_to_key\n",
    "\n",
    "在 python3 中，sorted 函数取消了自带的cmp函数，需要借助functools 库中的 cmp_to_key来做比较。\n",
    "比如如果要按照数组元素的绝对值来排序："
   ]
  },
  {
   "cell_type": "code",
   "execution_count": 77,
   "metadata": {},
   "outputs": [
    {
     "data": {
      "text/plain": [
       "[0, 1, -3, 3, 5, 5, -6, 8, 8]"
      ]
     },
     "execution_count": 77,
     "metadata": {},
     "output_type": "execute_result"
    }
   ],
   "source": [
    "from functools import cmp_to_key\n",
    "# 定义自己的cmp函数，比如此处定义为按照绝对值大小排序\n",
    "def mycmp(a, b):\n",
    "    if abs(a) < abs(b):\n",
    "      return -1\n",
    "    elif abs(a) > abs(b):\n",
    "      return 1\n",
    "    else:\n",
    "      return a - b\n",
    "\n",
    "def absSort(arr):\n",
    "    newarr = sorted(arr, key = cmp_to_key(mycmp))\n",
    "    return newarr\n",
    "    \n",
    "l = [1,3,5,-6,8,-3,5,8,0]\n",
    "absSort(l)\n"
   ]
  },
  {
   "cell_type": "markdown",
   "metadata": {},
   "source": [
    "# 字典"
   ]
  },
  {
   "cell_type": "code",
   "execution_count": 80,
   "metadata": {},
   "outputs": [
    {
     "name": "stdout",
     "output_type": "stream",
     "text": [
      "tinydict['Name']:  Runoob\n",
      "tinydict['Age']:  7\n"
     ]
    }
   ],
   "source": [
    "tinydict = {'Name': 'Runoob', 'Age': 7, 'Class': 'First'}\n",
    " \n",
    "print (\"tinydict['Name']: \", tinydict['Name'])\n",
    "print (\"tinydict['Age']: \", tinydict['Age'])"
   ]
  },
  {
   "cell_type": "markdown",
   "metadata": {},
   "source": [
    "# Set\n",
    "set() 函数创建一个无序不重复元素集，可进行关系测试，删除重复数据，还可以计算交集、差集、并集等。"
   ]
  },
  {
   "cell_type": "code",
   "execution_count": 94,
   "metadata": {},
   "outputs": [
    {
     "name": "stdout",
     "output_type": "stream",
     "text": [
      "会删除重复的元素: {'r', 'n', 'u', 'b', 'o'} {'g', 'o', 'e', 'l'}\n",
      "交集 {'o'}\n",
      "并集 {'r', 'n', 'l', 'u', 'g', 'b', 'o', 'e'}\n",
      "差集 {'u', 'n', 'r', 'b'}\n"
     ]
    }
   ],
   "source": [
    "x = set('runoob')\n",
    "y = set('google')\n",
    "print('会删除重复的元素:', x, y) # 重复的会被删除\n",
    "print('交集',x & y)         # 交集\n",
    "print('并集',x | y)         # 并集\n",
    "print('差集',x - y)         # 差集"
   ]
  },
  {
   "cell_type": "code",
   "execution_count": 109,
   "metadata": {},
   "outputs": [
    {
     "name": "stdout",
     "output_type": "stream",
     "text": [
      "l1: [(1, 2, 3), (1, 3, 2), (2, 1, 3), (2, 3, 1), (3, 1, 2), (3, 2, 1)]\n",
      "l2: [(1, 2, 3)]\n"
     ]
    }
   ],
   "source": [
    "import itertools as it\n",
    "l = [1,2,3]\n",
    "l1 = list(it.permutations(l, 3))\n",
    "print('l1:',l1)\n",
    "\n",
    "l2 = list(it.combinations(l, 3))\n",
    "print('l2:', l2)\n",
    "# [k for k, g in groupby('AAAABBBCCDAABBB')]\n",
    "# [list(g) for k, g in groupby('AAAABBBCCD')]"
   ]
  },
  {
   "cell_type": "markdown",
   "metadata": {},
   "source": [
    "# LeetCode刷题"
   ]
  },
  {
   "cell_type": "code",
   "execution_count": 3,
   "metadata": {},
   "outputs": [
    {
     "name": "stdout",
     "output_type": "stream",
     "text": [
      "3\n"
     ]
    }
   ],
   "source": [
    "def lengthOfLongestSubstring(s):\n",
    "    i = 0\n",
    "    ans = 0\n",
    "    for j in range(len(s)):\n",
    "        for k in range(i, j):\n",
    "            if(s[k] == s[j]):\n",
    "                i = k + 1\n",
    "        ans = max(ans, j-i+1)\n",
    "    return ans\n",
    "\n",
    "if __name__ == '__main__':\n",
    "    str = \"pwwkew\"\n",
    "    str1 = \"abcabcbb\"\n",
    "    print(lengthOfLongestSubstring(str1))\n",
    "        "
   ]
  }
 ],
 "metadata": {
  "interpreter": {
   "hash": "aee8b7b246df8f9039afb4144a1f6fd8d2ca17a180786b69acc140d282b71a49"
  },
  "kernelspec": {
   "display_name": "Python 3",
   "language": "python",
   "name": "python3"
  },
  "language_info": {
   "codemirror_mode": {
    "name": "ipython",
    "version": 3
   },
   "file_extension": ".py",
   "mimetype": "text/x-python",
   "name": "python",
   "nbconvert_exporter": "python",
   "pygments_lexer": "ipython3",
   "version": "3.7.2"
  }
 },
 "nbformat": 4,
 "nbformat_minor": 2
}
