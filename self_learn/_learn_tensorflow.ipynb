{
 "cells": [
  {
   "cell_type": "code",
   "execution_count": 1,
   "metadata": {},
   "outputs": [
    {
     "data": {
      "text/plain": [
       "['/usr/local/lib/python3.7/site-packages/tensorflow_core/python/keras/api/_v1',\n",
       " '/usr/local/lib/python3.7/site-packages/tensorflow_estimator/python/estimator/api/_v1',\n",
       " '/usr/local/lib/python3.7/site-packages/tensorflow_core',\n",
       " '/usr/local/lib/python3.7/site-packages/tensorflow_core/_api/v1']"
      ]
     },
     "execution_count": 1,
     "metadata": {},
     "output_type": "execute_result"
    }
   ],
   "source": [
    "import tensorflow as tf\n",
    "tf.__version__\n",
    "tf.__path__"
   ]
  },
  {
   "cell_type": "markdown",
   "metadata": {},
   "source": [
    "# 计算图"
   ]
  },
  {
   "cell_type": "markdown",
   "metadata": {},
   "source": [
    "tensorflow 2.0"
   ]
  },
  {
   "cell_type": "code",
   "execution_count": null,
   "metadata": {},
   "outputs": [],
   "source": [
    "import datetime\n",
    "\n",
    "@tf.function\n",
    "def strjoin(x, y):\n",
    "    z = tf.strings.join([x,y], separator=\"\")\n",
    "    tf.print(z)\n",
    "    return z\n",
    "\n",
    "result = strjoin(tf.constant(\"hello\"), tf.constant(\"word\"))\n",
    "print(result)\n",
    "\n",
    "stamp = datetime.datetime.now().strftime(\"%Y%m%d-%H%M%S\")\n",
    "logdir = './tfgraph/%s' % stamp\n",
    "writer = tf.summary.create_file_writer(logdir)\n",
    "\n",
    "tf.summary.trace_on(graph=True, profiler=True)\n",
    "\n",
    "result = strjoin(\"hello\", \"world\")\n",
    "\n",
    "with writer.as_default():\n",
    "    tf.summary.trace_export(\n",
    "        name = \"autorgraph\",\n",
    "        step = 0,\n",
    "        profiler_outdir = logdir\n",
    "    )\n",
    "# % load_ext tensorboard\n",
    "# % tensorboard --logdir=tfgraph --port=6007"
   ]
  },
  {
   "cell_type": "code",
   "execution_count": null,
   "metadata": {},
   "outputs": [],
   "source": [
    "import datetime\n",
    "\n",
    "@tf.function\n",
    "def add(x, y):\n",
    "    z = x + y\n",
    "    tf.print(z)\n",
    "    return z\n",
    "\n",
    "c = add(tf.constant(1), tf.constant(2))\n",
    "print(c)\n",
    "\n",
    "stamp = datetime.datetime.now().strftime(\"%Y%m%d-%H%M%S\")\n",
    "logdir = './tfgraph/%s' % stamp\n",
    "writer = tf.summary.create_file_writer(logdir)\n",
    "\n",
    "tf.summary.trace_on(graph=True, profiler=True)\n",
    "\n",
    "result = add(1, 2)\n",
    "\n",
    "with writer.as_default():\n",
    "    tf.summary.trace_export(\n",
    "        name = \"autorgraph\",\n",
    "        step = 0,\n",
    "        profiler_outdir = logdir\n",
    "    )\n",
    "# % load_ext tensorboard\n",
    "# % tensorboard --logdir=tfgraph --port=6007"
   ]
  },
  {
   "cell_type": "markdown",
   "metadata": {},
   "source": [
    "tensorflow 1.0"
   ]
  },
  {
   "cell_type": "code",
   "execution_count": 7,
   "metadata": {},
   "outputs": [
    {
     "name": "stdout",
     "output_type": "stream",
     "text": [
      "WARNING:tensorflow:From /var/folders/sh/kvy3_0ls2hd4j667qq4n11lh0000gn/T/ipykernel_21629/26587414.py:8: The name tf.string_join is deprecated. Please use tf.strings.join instead.\n",
      "\n",
      "WARNING:tensorflow:From /var/folders/sh/kvy3_0ls2hd4j667qq4n11lh0000gn/T/ipykernel_21629/26587414.py:11: The name tf.Session is deprecated. Please use tf.compat.v1.Session instead.\n",
      "\n",
      "b'hello world'\n"
     ]
    }
   ],
   "source": [
    "import tensorflow as tf\n",
    "\n",
    "#定义计算图\n",
    "g = tf.Graph()\n",
    "with g.as_default():\n",
    "    hello = tf.constant('hello',name = 'hello')\n",
    "    world = tf.constant('world',name = 'world')\n",
    "    helloworld = tf.string_join([hello,world],name = 'join',separator=' ')\n",
    "\n",
    "#执行计算图\n",
    "with tf.Session(graph = g) as sess:\n",
    "    print(sess.run(fetches = helloworld,feed_dict={}))\n",
    "\n",
    "#查看计算图\n",
    "with tf.summary.FileWriter('./my_graph') as writer:\n",
    "    writer.add_graph(g)\n",
    "\n",
    "#1，在命令行中切换到 F:\\lys\\my_graph\n",
    "#2，运行 tensorboard --logdir=my_graph\n",
    "#3, 打开浏览器输入地址http://localhost:6006\n",
    "\n"
   ]
  },
  {
   "cell_type": "code",
   "execution_count": 8,
   "metadata": {},
   "outputs": [
    {
     "name": "stdout",
     "output_type": "stream",
     "text": [
      "None\n"
     ]
    }
   ],
   "source": [
    "# import tensorflow as tf\n",
    "\n",
    "#定义计算图\n",
    "g = tf.Graph()\n",
    "with g.as_default():\n",
    "    a = tf.constant(1,name = 'a')\n",
    "    b = tf.constant(2,name = 'b')\n",
    "    c = tf.add_n([a,b],name = 'c')\n",
    "\n",
    "#执行计算图\n",
    "with tf.Session(graph = g) as sess:\n",
    "    print(sess.run(fetches = 'c',feed_dict={}))\n",
    "\n",
    "#查看计算图\n",
    "with tf.summary.FileWriter('./my_graph') as writer:\n",
    "    writer.add_graph(g)\n",
    "\n",
    "#1，在命令行中切换到 F:\\lys\\my_graph\n",
    "#2，运行 tensorboard --logdir=my_graph\n",
    "#3, 打开浏览器输入地址http://localhost:6006\n",
    "\n"
   ]
  },
  {
   "cell_type": "code",
   "execution_count": 9,
   "metadata": {},
   "outputs": [
    {
     "data": {
      "text/plain": [
       "<bound method FileWriter.close of <tensorflow.python.summary.writer.writer.FileWriter object at 0x11f1b0dd8>>"
      ]
     },
     "execution_count": 9,
     "metadata": {},
     "output_type": "execute_result"
    }
   ],
   "source": [
    "import tensorflow as tf\n",
    "a = tf.constant([1,2], name='a')\n",
    "b = tf.constant([2,3], name='b')\n",
    "c = tf.add_n([a, b],name='add')\n",
    "\n",
    "writer = tf.summary.FileWriter('./tf1', tf.get_default_graph())\n",
    "writer.close"
   ]
  }
 ],
 "metadata": {
  "interpreter": {
   "hash": "aee8b7b246df8f9039afb4144a1f6fd8d2ca17a180786b69acc140d282b71a49"
  },
  "kernelspec": {
   "display_name": "Python 3.7.2 64-bit",
   "language": "python",
   "name": "python3"
  },
  "language_info": {
   "codemirror_mode": {
    "name": "ipython",
    "version": 3
   },
   "file_extension": ".py",
   "mimetype": "text/x-python",
   "name": "python",
   "nbconvert_exporter": "python",
   "pygments_lexer": "ipython3",
   "version": "3.7.2"
  },
  "orig_nbformat": 4
 },
 "nbformat": 4,
 "nbformat_minor": 2
}
