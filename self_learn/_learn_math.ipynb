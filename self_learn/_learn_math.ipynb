{
 "cells": [
  {
   "cell_type": "code",
   "execution_count": 36,
   "metadata": {},
   "outputs": [
    {
     "data": {
      "text/plain": [
       "0.920344325445942"
      ]
     },
     "execution_count": 36,
     "metadata": {},
     "output_type": "execute_result"
    }
   ],
   "source": [
    "# 第七讲 非参数检验\n",
    "# 用于数值计算的库\n",
    "import numpy as np\n",
    "import pandas as pd\n",
    "import scipy as sp\n",
    "from scipy import stats\n",
    "#用于画图的库\n",
    "from matplotlib import pyplot as plt\n",
    "import seaborn as sns\n",
    "sns.set()\n",
    "# 设置浮点数打印精度\n",
    "%precision 3\n",
    "#在jupyter notebook里面显示图形 \n",
    "%matplotlib inline\n",
    "1-sp.stats.chi2.cdf(x = 0.01, df = 1)"
   ]
  },
  {
   "cell_type": "code",
   "execution_count": 37,
   "metadata": {},
   "outputs": [
    {
     "name": "stdout",
     "output_type": "stream",
     "text": [
      "  xiyanfou huanbingfou  freq\n",
      "0       xi        huan    43\n",
      "1       xi         not   162\n",
      "2     buxi        huan    13\n",
      "3     buxi         not   121\n"
     ]
    }
   ],
   "source": [
    "data_smoke = pd.read_csv(\"../datasets/test.csv\")\n",
    "print(data_smoke)"
   ]
  },
  {
   "cell_type": "code",
   "execution_count": 38,
   "metadata": {},
   "outputs": [
    {
     "name": "stdout",
     "output_type": "stream",
     "text": [
      "huanbingfou  huan  not\n",
      "xiyanfou              \n",
      "buxi           13  121\n",
      "xi             43  162\n"
     ]
    }
   ],
   "source": [
    "# 列联表的独立检验\n",
    "cross = pd.pivot_table(\n",
    "    data = data_smoke,\n",
    "    values=\"freq\",\n",
    "    aggfunc=\"sum\",\n",
    "    index=\"xiyanfou\",\n",
    "    columns=\"huanbingfou\"\n",
    ")\n",
    "print(cross)\n"
   ]
  },
  {
   "cell_type": "code",
   "execution_count": 39,
   "metadata": {},
   "outputs": [
    {
     "data": {
      "text/plain": [
       "(7.468768303892438,\n",
       " 0.006277848677631976,\n",
       " 1,\n",
       " array([[ 22.136, 111.864],\n",
       "        [ 33.864, 171.136]]))"
      ]
     },
     "execution_count": 39,
     "metadata": {},
     "output_type": "execute_result"
    }
   ],
   "source": [
    "sp.stats.chi2_contingency(cross, correction=False)\n",
    "# 依次输出：统计量，p值，自由度，期望频数"
   ]
  },
  {
   "cell_type": "code",
   "execution_count": 98,
   "metadata": {},
   "outputs": [
    {
     "name": "stdout",
     "output_type": "stream",
     "text": [
      "ka 7.468768303892438\n",
      "0.920344325445942\n"
     ]
    }
   ],
   "source": [
    "# 列联表\n",
    "n = 339\n",
    "X = np.array([[43, 162], [13, 121]])\n",
    "X_new = np.array([[205*56/n, 205*283/n],[134*56/n, 134*283/n]])\n",
    "X_new[0][0]\n",
    "sum = 0.0\n",
    "for i in range(X_new.shape[0]):\n",
    "    for j in range(X_new.shape[1]):\n",
    "        sum += np.power(X[i][j]-X_new[i][j],2) / X_new[i][j]\n",
    "print('ka',sum)\n",
    "print(1-sp.stats.chi2.cdf(x = 0.01, df = 1))"
   ]
  },
  {
   "cell_type": "code",
   "execution_count": 49,
   "metadata": {},
   "outputs": [
    {
     "name": "stdout",
     "output_type": "stream",
     "text": [
      "7.468768303892439\n"
     ]
    }
   ],
   "source": [
    "a = 43\n",
    "b = 162\n",
    "c = 13\n",
    "d = 121\n",
    "n = 339\n",
    "print(n*(a*d-b*c)*(a*d-b*c)/((a+b)*(c+d)*(a+c)*(b+d)))"
   ]
  },
  {
   "cell_type": "code",
   "execution_count": 32,
   "metadata": {},
   "outputs": [
    {
     "name": "stdout",
     "output_type": "stream",
     "text": [
      "60\n",
      "0.2756006936867476\n"
     ]
    },
    {
     "data": {
      "text/plain": [
       "-1.6775524341637942"
      ]
     },
     "execution_count": 32,
     "metadata": {},
     "output_type": "execute_result"
    }
   ],
   "source": [
    "#D检验\n",
    "import math\n",
    "# X = [4.9,27.0,99.0,1.2,3.2,13.5,3.0,3.4,12.0,40.0,4.0,5.3,11.5,5.7,6.6,0.7,10.3,\n",
    "# 1.6,1.8,2.7,  77.0,  37.0 ,  1.3 , 2.0 , 6.5 , 28.0 , 4.9 ,31.0, 17.0, 2.4, 1.3,\n",
    "#   2.5, 3.5, 4.0, 3.0, 0.8, 4.6, 1.1, 2.5, 11.0, 1.9, 1.2, 1.6, 1.8,\n",
    "#    86.0,  4.6,  2.4,  7.9 , 2.8  ,3.1 , 6.8,  2.1 , 5.2,  2.8, 4.0, 16.5, 3.3, 22.0, 1.7, 3.5]\n",
    "X = [2.9, 4.9, 27.0, 99.0, 1.2, 0.8, 3.2, 13.5, 3.0, 3.4, 1.0,\n",
    " 12.0, 40.0, 4.0, 5.3, 11.5, 5.7 ,6.6, 0.7, 10.3, 1.6, 1.8, 2.7 ,\n",
    " 77.0, 37.0, 99.0, 1.3, 2.0, 6.5, 28.0 ,4.9, 31.0, 17.0, 2.4 ,1.3,\n",
    "  2.5, 3.5, 4.0, 3.0 ,0.8, 4.6, 1.1 ,2.5, 11.0 ,1.9, 1.2 ,1.6 ,1.8 ,\n",
    "  86.0 ,52.0 ,4.6 ,2.4 ,7.9, 2.8 ,3.1 ,6.8, 2.1, 5.2 ,2.8 ,4.0 ,16.5 ,3.3 ,22.0, 1.7 ,3.5, 14.0]\n",
    "X = np.log(X)\n",
    "X_mean = X.mean()\n",
    "N = len(X)\n",
    "print(N)\n",
    "X.sort()\n",
    "D_1 = 0.0\n",
    "D_2 = 0.0\n",
    "for i in range(N):\n",
    "    D_1 += ((i+1)- (N+1)/2)*X[i]\n",
    "    D_2 += math.pow((X[i]-X_mean), 2)\n",
    "    \n",
    "D_2 = math.pow(N, 3/2)* np.sqrt(D_2)\n",
    "\n",
    "D = D_1 / D_2\n",
    "print(D)\n",
    "\n",
    "Y = (D-0.28209479)* math.sqrt(N) / 0.02998598\n",
    "Y\n",
    "\n"
   ]
  },
  {
   "cell_type": "code",
   "execution_count": 46,
   "metadata": {},
   "outputs": [],
   "source": [
    "def getvar(x):\n",
    "    sum = 0\n",
    "    N = len(x)\n",
    "    x_mean= getmean(x)\n",
    "    start = -17.5\n",
    "    for i in range(N):\n",
    "        print(start, '-', x_mean, '+')\n",
    "        sum += (start - x_mean)**2*x[i]\n",
    "        start += 5\n",
    "    return sum/200\n",
    "\n",
    "def getmean(x): \n",
    "    sum = 0\n",
    "    N = len(x)\n",
    "    start = -17.5\n",
    "    for i in range(N):\n",
    "       # print(start, '*', x[i], '+')\n",
    "        sum += start * x[i] \n",
    "        start += 5\n",
    "    return sum/200"
   ]
  },
  {
   "cell_type": "code",
   "execution_count": 47,
   "metadata": {},
   "outputs": [
    {
     "name": "stdout",
     "output_type": "stream",
     "text": [
      "4.375\n",
      "-17.5 - 4.375 +\n",
      "-12.5 - 4.375 +\n",
      "-7.5 - 4.375 +\n",
      "-2.5 - 4.375 +\n",
      "2.5 - 4.375 +\n",
      "7.5 - 4.375 +\n",
      "12.5 - 4.375 +\n",
      "17.5 - 4.375 +\n",
      "22.5 - 4.375 +\n",
      "27.5 - 4.375 +\n",
      "94.359375\n",
      "-17.5 - 4.375 +\n",
      "-12.5 - 4.375 +\n",
      "-7.5 - 4.375 +\n",
      "-2.5 - 4.375 +\n",
      "2.5 - 4.375 +\n",
      "7.5 - 4.375 +\n",
      "12.5 - 4.375 +\n",
      "17.5 - 4.375 +\n",
      "22.5 - 4.375 +\n",
      "27.5 - 4.375 +\n",
      "9.713875385241463\n"
     ]
    }
   ],
   "source": [
    "import numpy as np\n",
    "x = np.array([7,11,15,24,46,44,26,17,7,3])\n",
    "print(getmean(x))\n",
    "print(getvar(x))\n",
    "print(np.sqrt(getvar(x)))"
   ]
  },
  {
   "cell_type": "code",
   "execution_count": 15,
   "metadata": {},
   "outputs": [],
   "source": [
    "# 第九章--回归分析-一元线性回归\n",
    "# 最小二乘法\n",
    "import numpy as np\n",
    "x = np.array([165,160,170,162,172,157,177,167,172,170,175,180])\n",
    "y = np.array([172,167,172,165,175,167,172,165,180,170,172,177])"
   ]
  },
  {
   "cell_type": "code",
   "execution_count": 19,
   "metadata": {},
   "outputs": [
    {
     "name": "stdout",
     "output_type": "stream",
     "text": [
      "0.4732824427480592\n",
      "0.4732824427480916\n",
      "91.221374045807\n"
     ]
    }
   ],
   "source": [
    "x_mean = x.mean()\n",
    "y_mean = y.mean()\n",
    "n = len(x)\n",
    "beta1 = ((x*y).sum() - n*x_mean*y_mean) / ((x**2).sum() - n*(x_mean**2))\n",
    "beta1_ = ((x-x_mean)*(y-y_mean)).sum() / (n* x.var())\n",
    "print(beta1)\n",
    "print(beta1_)\n",
    "beta0 = y_mean-beta1*x_mean\n",
    "print(beta0)"
   ]
  },
  {
   "cell_type": "markdown",
   "metadata": {},
   "source": [
    "# 求相关系数"
   ]
  },
  {
   "cell_type": "code",
   "execution_count": null,
   "metadata": {},
   "outputs": [],
   "source": [
    "# 相关系数\n",
    "import math\n",
    "xstd = math.sqrt(xx.var() * 10 / 9)\n",
    "ystd = math.sqrt(yy.var() * 10 / 9)\n",
    "p = ((xx*yy).mean() - xx.mean()* yy.mean()) /(xx.std()*yy.std())\n",
    "p = ((xx*yy).mean() - xx.mean()* yy.mean()) /(xstd*ystd)\n",
    "print(p)"
   ]
  }
 ],
 "metadata": {
  "interpreter": {
   "hash": "aee8b7b246df8f9039afb4144a1f6fd8d2ca17a180786b69acc140d282b71a49"
  },
  "kernelspec": {
   "display_name": "Python 3.7.2 64-bit",
   "language": "python",
   "name": "python3"
  },
  "language_info": {
   "codemirror_mode": {
    "name": "ipython",
    "version": 3
   },
   "file_extension": ".py",
   "mimetype": "text/x-python",
   "name": "python",
   "nbconvert_exporter": "python",
   "pygments_lexer": "ipython3",
   "version": "3.7.2"
  },
  "orig_nbformat": 4
 },
 "nbformat": 4,
 "nbformat_minor": 2
}
