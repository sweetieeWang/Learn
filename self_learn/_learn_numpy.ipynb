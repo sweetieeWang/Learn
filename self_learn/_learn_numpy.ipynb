{
 "cells": [
  {
   "cell_type": "code",
   "execution_count": 1,
   "metadata": {},
   "outputs": [],
   "source": [
    "import numpy as np\n",
    "np.arange(5)\n",
    "x = np.random.normal()"
   ]
  },
  {
   "cell_type": "code",
   "execution_count": 2,
   "metadata": {},
   "outputs": [
    {
     "name": "stdout",
     "output_type": "stream",
     "text": [
      "[[ 1  6]\n",
      " [ 6 16]] \n",
      "\n",
      "[[ 5 11]\n",
      " [11 25]] \n",
      "\n",
      "[[ 1  6]\n",
      " [ 6 16]] \n",
      "\n",
      "[[ 5 11]\n",
      " [11 25]] \n",
      "\n",
      "[[ 5 11]\n",
      " [11 25]] \n",
      "\n",
      "[[ 7 10]\n",
      " [15 22]]\n",
      "[[ 7 10]\n",
      " [15 22]]\n",
      "[[ 1  4]\n",
      " [ 9 16]]\n",
      "[[ 7 10]\n",
      " [15 22]]\n",
      "[[ 7 10]\n",
      " [15 22]]\n"
     ]
    }
   ],
   "source": [
    "import numpy as np\n",
    "x1 = np.array([[1,2],[3,4]])\n",
    "y1 = np.array([[1,2],[3,4]]).T\n",
    "print(x1 * y1, '\\n') #对应元素相乘\n",
    "print(x1 @ y1, '\\n') #矩阵乘法：点乘\n",
    "\n",
    "print(np.multiply(x1, y1), '\\n') #对应元素相乘\n",
    "print(np.dot(x1, y1), '\\n') #矩阵乘法：点乘\n",
    "print(x1.dot(y1), '\\n') #矩阵乘法：点乘\n",
    "\n",
    "\n",
    "x2 = np.matrix([[1,2],[3,4]])\n",
    "y2 = np.matrix([[1,2],[3,4]])\n",
    "# 除了print(np.multiply(x2, y2)) 对于matrix 其余都是矩阵乘法\n",
    "print(x2 * y2)\n",
    "print(x2 @ y2)\n",
    "print(np.multiply(x2, y2)) #对应元素相乘\n",
    "print(np.dot(x2, y2))\n",
    "print(x2.dot(y2))"
   ]
  },
  {
   "cell_type": "code",
   "execution_count": 3,
   "metadata": {},
   "outputs": [
    {
     "name": "stdout",
     "output_type": "stream",
     "text": [
      "5 \n",
      "\n"
     ]
    }
   ],
   "source": [
    "x1 = np.array([1,2])\n",
    "y1 = np.array([1,2])\n",
    "print(np.dot(x1, y1), '\\n') #矩阵乘法：点乘\n"
   ]
  },
  {
   "cell_type": "markdown",
   "metadata": {},
   "source": [
    "# numpy 中的统计函数"
   ]
  },
  {
   "cell_type": "code",
   "execution_count": 4,
   "metadata": {},
   "outputs": [
    {
     "name": "stdout",
     "output_type": "stream",
     "text": [
      "36.0625\n",
      "0.5416025603090641\n"
     ]
    }
   ],
   "source": [
    "import numpy as np\n",
    "x = [506, 508, 499, 503, 504,510,497,512,514,505,493,496,506,502,509,496]\n",
    "x_mean = np.mean(x) # 均值\n",
    "x_var = np.var(x) # 方差\n",
    "print(x_var)\n",
    "\n",
    "x2 = [6.0,5.7,5.8,6.5,7.0,6.3,5.6,6.1,5.0]\n",
    "x2_std = np.std(x2) # 标准差\n",
    "print(x2_std)"
   ]
  },
  {
   "cell_type": "code",
   "execution_count": 5,
   "metadata": {},
   "outputs": [
    {
     "name": "stdout",
     "output_type": "stream",
     "text": [
      "215.1\n",
      "416.1000000000001\n",
      "374.48999999999995\n",
      "46642.5\n"
     ]
    }
   ],
   "source": [
    "# \n",
    "import numpy as np\n",
    "x3 = [210,243,185,240,215, 228, 196, 235, 200, 199]\n",
    "x3_sample_var = 0 # 样本方差 \n",
    "x3_2_cen = 0 # 样本二阶中心局矩\n",
    "for i in x3:\n",
    "    x3_sample_var += pow(i - np.mean(x3), 2)\n",
    "    x3_2_cen += pow(i,2)\n",
    "\n",
    "x3_var = np.var(x3)\n",
    "print(np.mean(x3))\n",
    "print(x3_sample_var/9)\n",
    "print(x3_var)\n",
    "print(x3_2_cen/10)"
   ]
  },
  {
   "cell_type": "code",
   "execution_count": 6,
   "metadata": {},
   "outputs": [
    {
     "name": "stdout",
     "output_type": "stream",
     "text": [
      "30892.488888888893\n",
      "27803.24\n"
     ]
    }
   ],
   "source": [
    "import numpy as np\n",
    "x3 = [1520,1483,1827,1654,1631,1483,1411,1660,1540,1987]\n",
    "x3_man_var = 0\n",
    "for i in x3:\n",
    "    x3_man_var += pow(i - np.mean(x3), 2)\n",
    "\n",
    "x3_var = np.var(x3)\n",
    "print(x3_man_var/9)\n",
    "print(x3_var)"
   ]
  },
  {
   "cell_type": "markdown",
   "metadata": {},
   "source": [
    "# 处理自己制作的数据 .csv格式"
   ]
  },
  {
   "cell_type": "code",
   "execution_count": 7,
   "metadata": {},
   "outputs": [
    {
     "name": "stdout",
     "output_type": "stream",
     "text": [
      "         1    2    3    4    5    6    7    8\n",
      "0                                            \n",
      "母亲身高y  154  157  158  159  160  161  162  163\n",
      "女儿身高x  155  156  159  162  161  164  165  166\n"
     ]
    },
    {
     "data": {
      "text/plain": [
       "<matplotlib.collections.PathCollection at 0x11e5b3b00>"
      ]
     },
     "execution_count": 7,
     "metadata": {},
     "output_type": "execute_result"
    },
    {
     "data": {
      "image/png": "[encoded data removed]",
      "text/plain": [
       "<Figure size 432x288 with 1 Axes>"
      ]
     },
     "metadata": {
      "needs_background": "light"
     },
     "output_type": "display_data"
    }
   ],
   "source": [
    "import matplotlib.pyplot as plt\n",
    "import pandas as pd\n",
    "import numpy as np\n",
    "df = pd.read_csv('./xx_data.csv')\n",
    "df = df.rename(columns={'Unamed: 0':'0'})\n",
    "df = df.set_index(keys=['0'])\n",
    "print(df.head())\n",
    "\n",
    "xx = df.loc['母亲身高y']\n",
    "yy = df.loc['女儿身高x']\n",
    "\n",
    "plt.scatter(xx,yy)"
   ]
  },
  {
   "cell_type": "markdown",
   "metadata": {},
   "source": [
    "# 对上面的数据 最小二乘法拟合数据"
   ]
  },
  {
   "cell_type": "code",
   "execution_count": 8,
   "metadata": {},
   "outputs": [
    {
     "data": {
      "image/png": "[encoded data removed]",
      "text/plain": [
       "<Figure size 432x288 with 1 Axes>"
      ]
     },
     "metadata": {
      "needs_background": "light"
     },
     "output_type": "display_data"
    },
    {
     "name": "stdout",
     "output_type": "stream",
     "text": [
      "k: 1.3445378151260505\n",
      "b: -53.117647058823536\n"
     ]
    }
   ],
   "source": [
    "k = ((xx*yy).mean() - xx.mean()* yy.mean())/(pow(xx,2).mean()-pow(xx.mean(),2))\n",
    "# b 等于 y 的均值 - k 乘以 x 的均值\n",
    "b = yy.mean() - k*xx.mean()\n",
    "\n",
    "# 绘图\n",
    "plt.scatter(xx,yy)\n",
    "x = np.arange(150,170.0,0.1)\n",
    "y = k*x+b    \n",
    "plt.plot(x,y)\n",
    "plt.xlabel(\"mother height\")\n",
    "plt.ylabel(\"daughter height\")\n",
    "plt.show()\n",
    "\n",
    "#打印系数\n",
    "print(\"k:\",k)\n",
    "print(\"b:\",b)\n"
   ]
  },
  {
   "cell_type": "markdown",
   "metadata": {},
   "source": [
    "# np.agrmax 函数 返回数组最大的数的索引值"
   ]
  },
  {
   "cell_type": "code",
   "execution_count": 9,
   "metadata": {},
   "outputs": [
    {
     "name": "stdout",
     "output_type": "stream",
     "text": [
      "4\n"
     ]
    }
   ],
   "source": [
    "import numpy as np\n",
    "a = np.array([3, 1, 2, 4, 6, 1])\n",
    "# 一维：argmax返回的是最大数的索引\n",
    "print(np.argmax(a))"
   ]
  },
  {
   "cell_type": "code",
   "execution_count": 10,
   "metadata": {},
   "outputs": [
    {
     "name": "stdout",
     "output_type": "stream",
     "text": [
      "[1 2 2 1]\n",
      "[1 0 2]\n"
     ]
    }
   ],
   "source": [
    "# 二维： argmax有一个参数axis,默认是0,表示第几维的最大值\n",
    "# 每列最大值的索引\n",
    "a = np.array([[1, 5, 5, 2],\n",
    "              [9, 6, 2, 8],\n",
    "              [3, 7, 9, 1]])\n",
    "print(np.argmax(a, axis=0))\n",
    "\n",
    "# 每行最大值的索引\n",
    "a = np.array([[1, 5, 5, 2],\n",
    "              [9, 6, 2, 8],\n",
    "              [3, 7, 9, 1]])\n",
    "print(np.argmax(a, axis=1))"
   ]
  },
  {
   "cell_type": "code",
   "execution_count": 11,
   "metadata": {},
   "outputs": [
    {
     "name": "stdout",
     "output_type": "stream",
     "text": [
      "[[1 2]\n",
      " [3 4]\n",
      " [5 6]]\n",
      "[[1 2 5]\n",
      " [3 4 6]]\n",
      "[1 2 3 4 5 6]\n"
     ]
    }
   ],
   "source": [
    "import numpy as np\n",
    "a = np.array([[1, 2], [3, 4]])\n",
    "b = np.array([[5, 6]])\n",
    "print(np.concatenate((a, b), axis=0))\n",
    "print(np.concatenate((a, b.T), axis=1))\n",
    "print(np.concatenate((a, b), axis=None))\n"
   ]
  },
  {
   "cell_type": "markdown",
   "metadata": {},
   "source": [
    "1.二者都是矩阵乘法。\n",
    "2.np.matmul中禁止矩阵与标量的乘法。\n",
    "3.在矢量乘矢量的內积运算中，np.matmul与np.dot没有区别。\n",
    "4.np.matmul中，多维的矩阵，将前n-2维视为后2维的元素后，进行乘法运算。"
   ]
  },
  {
   "cell_type": "code",
   "execution_count": 12,
   "metadata": {},
   "outputs": [
    {
     "name": "stdout",
     "output_type": "stream",
     "text": [
      "112.8\n",
      "1.2899999999999985\n"
     ]
    }
   ],
   "source": [
    "import numpy as np\n",
    "x = np.array([112.0,  113.4,  111.2,  112.0,  114.5,  112.9,  113.6])\n",
    "\n",
    "print(x.mean())\n",
    "\n",
    "print(x.var()*7/6)"
   ]
  }
 ],
 "metadata": {
  "interpreter": {
   "hash": "cd78fef2128015050713e82ca51c6520b11aee7c9ee8df750520bbbc7384cbaa"
  },
  "kernelspec": {
   "display_name": "Python 3.8.8 64-bit ('base': conda)",
   "name": "python3"
  },
  "language_info": {
   "codemirror_mode": {
    "name": "ipython",
    "version": 3
   },
   "file_extension": ".py",
   "mimetype": "text/x-python",
   "name": "python",
   "nbconvert_exporter": "python",
   "pygments_lexer": "ipython3",
   "version": "3.7.2"
  },
  "orig_nbformat": 4
 },
 "nbformat": 4,
 "nbformat_minor": 2
}
