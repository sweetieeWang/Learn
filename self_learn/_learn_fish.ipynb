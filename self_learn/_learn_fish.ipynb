{
 "cells": [
  {
   "cell_type": "markdown",
   "metadata": {},
   "source": [
    "# 1. 判断语句"
   ]
  },
  {
   "cell_type": "code",
   "execution_count": null,
   "metadata": {},
   "outputs": [],
   "source": [
    "temp = input(\"你猜的数字：\")\n",
    "guess = int(temp)\n",
    "if guess == 8:\n",
    "    print(\"猜对了\")\n",
    "    print(\"666\")\n",
    "else:\n",
    "    if guess > 8:\n",
    "        print('大了')\n",
    "    else:\n",
    "        print('小了')\n",
    "    print(\"猜错了\")\n",
    "print(\"游戏结束\")"
   ]
  },
  {
   "cell_type": "markdown",
   "metadata": {},
   "source": [
    "# 2.内置函数和帮助文档\n",
    "BIF == Built-in function 内置函数"
   ]
  },
  {
   "cell_type": "code",
   "execution_count": null,
   "metadata": {},
   "outputs": [],
   "source": [
    "dir(__builtins__)"
   ]
  },
  {
   "cell_type": "code",
   "execution_count": null,
   "metadata": {},
   "outputs": [],
   "source": [
    "help(input)"
   ]
  },
  {
   "cell_type": "code",
   "execution_count": null,
   "metadata": {},
   "outputs": [],
   "source": [
    "help(int)"
   ]
  },
  {
   "cell_type": "markdown",
   "metadata": {},
   "source": [
    "# 3. 变量\n",
    "1. 使用变量之前，需要先对其赋值\n",
    "2. 变量名可以包括字母，数字，下划线，但变量名不能以数字开头\n",
    "3. 大小写敏感\n",
    "4. = 为赋值的意思，左边名字，右边变量\n"
   ]
  },
  {
   "cell_type": "code",
   "execution_count": null,
   "metadata": {},
   "outputs": [],
   "source": [
    "teacher = '小甲鱼'\n",
    "print(teacher)\n",
    "teacher = '老甲鱼'\n",
    "print(teacher)\n"
   ]
  },
  {
   "cell_type": "code",
   "execution_count": null,
   "metadata": {},
   "outputs": [],
   "source": [
    "# 拼接\n",
    "a = 'mama'\n",
    "b = 'baba'\n",
    "c = a + b\n",
    "print(c)"
   ]
  },
  {
   "cell_type": "markdown",
   "metadata": {},
   "source": [
    "# 4. 字符串\n",
    "1. 引号内的一切东西\n",
    "2. 单引号和双引号都可以，但是要配对\n",
    "3. 转义符号\\\n",
    "4. 原始字符串 在字符串前面加上r\n",
    "5. 打印一个段落：三引号"
   ]
  },
  {
   "cell_type": "code",
   "execution_count": null,
   "metadata": {},
   "outputs": [],
   "source": [
    "print(5+8)\n",
    "print('5'+'8')\n",
    "print('Let\\'s go')"
   ]
  },
  {
   "cell_type": "code",
   "execution_count": null,
   "metadata": {},
   "outputs": [],
   "source": [
    "'C:\\now'"
   ]
  },
  {
   "cell_type": "code",
   "execution_count": null,
   "metadata": {},
   "outputs": [],
   "source": [
    "str = r'C:\\now'\n",
    "str\n"
   ]
  },
  {
   "cell_type": "code",
   "execution_count": null,
   "metadata": {},
   "outputs": [],
   "source": [
    "print(str)"
   ]
  },
  {
   "cell_type": "code",
   "execution_count": null,
   "metadata": {},
   "outputs": [],
   "source": [
    "'''llalala\n",
    "ajdkajdai\n",
    "hdahdia\n",
    "adhashdiads'''"
   ]
  },
  {
   "cell_type": "code",
   "execution_count": null,
   "metadata": {},
   "outputs": [],
   "source": [
    "str = '''llalala\n",
    "ajdkajdai\n",
    "hdahdia\n",
    "adhashdiads'''\n",
    "print(str)"
   ]
  },
  {
   "cell_type": "markdown",
   "metadata": {},
   "source": [
    "# 5. 循环 \n",
    "1. while 循环\n",
    "逻辑运算符： and or\n",
    "2 < 4 and 1 < 2\n",
    "random 模块\n",
    "random.randint(1, 10)\n",
    "2. for 循环\n"
   ]
  },
  {
   "cell_type": "code",
   "execution_count": null,
   "metadata": {},
   "outputs": [],
   "source": [
    "import random\n",
    "secret = random.randint(1, 100)\n",
    "temp = input(\"你猜的数字：\")\n",
    "guess = int(temp)\n",
    "while guess != secret:\n",
    "    temp = input(\"你猜的数字：\")\n",
    "    guess = int(temp)\n",
    "    if guess == secret:\n",
    "        print(\"猜对了\")\n",
    "        print(\"666\")\n",
    "    else:\n",
    "        if guess > secret:\n",
    "            print('大了')\n",
    "        else:\n",
    "            print('小了')\n",
    "        print(\"哎呀，猜错了， 请重新输入吧：\")\n",
    "print(\"游戏结束\")"
   ]
  },
  {
   "cell_type": "markdown",
   "metadata": {},
   "source": [
    "# 数据类型\n",
    "1. 整型: 整型，长整型\n",
    "2. 浮点型: 有小数点就是浮点型，没有就是整型\n",
    "3. 布尔型: False = 0 True = 1\n",
    "4. e记法 15000 1.5e4\n",
    "5. 转换 int() str() float()\n",
    "float 转浮点型 是截放处理只取整型部分\n",
    "6. 类型信息 type()\n",
    "判断类型是否匹配 is instance(obj, class_or_tuple)\n",
    "\n"
   ]
  },
  {
   "cell_type": "code",
   "execution_count": null,
   "metadata": {},
   "outputs": [],
   "source": [
    "b = '10'\n",
    "a = int(str)\n",
    "print(type(b))\n",
    "print(type(a))"
   ]
  },
  {
   "cell_type": "code",
   "execution_count": 39,
   "metadata": {},
   "outputs": [
    {
     "name": "stdout",
     "output_type": "stream",
     "text": [
      "Help on built-in function isinstance in module builtins:\n",
      "\n",
      "isinstance(obj, class_or_tuple, /)\n",
      "    Return whether an object is an instance of a class or of a subclass thereof.\n",
      "    \n",
      "    A tuple, as in ``isinstance(x, (A, B, ...))``, may be given as the target to\n",
      "    check against. This is equivalent to ``isinstance(x, A) or isinstance(x, B)\n",
      "    or ...`` etc.\n",
      "\n"
     ]
    },
    {
     "data": {
      "text/plain": [
       "False"
      ]
     },
     "execution_count": 39,
     "metadata": {},
     "output_type": "execute_result"
    }
   ],
   "source": [
    "help(isinstance)\n",
    "c = \"lala\"\n",
    "isinstance(c, int)"
   ]
  },
  {
   "cell_type": "markdown",
   "metadata": {},
   "source": [
    "# 算术操作符\n",
    "## 单目运算符\n",
    "```\n",
    "+ - * %： 和C语言一样\n",
    "/：除法，小数除法，就算除完是整数，除完也是小数\n",
    "**：幂运算，二次方\n",
    "//：整除\n",
    "```\n",
    "## 双目操作符\n",
    "**\n",
    "\n",
    "## 逻辑操作符\n",
    "and or not\n",
    "\n",
    "优先级: **(左侧比他高，右侧比他低), (), -(负号), */(减号), +-\n"
   ]
  },
  {
   "cell_type": "code",
   "execution_count": 50,
   "metadata": {},
   "outputs": [
    {
     "data": {
      "text/plain": [
       "6.0"
      ]
     },
     "execution_count": 50,
     "metadata": {},
     "output_type": "execute_result"
    }
   ],
   "source": [
    "-3 * 2 / -2 - -3"
   ]
  },
  {
   "cell_type": "markdown",
   "metadata": {},
   "source": [
    "# 分支和循环\n"
   ]
  },
  {
   "cell_type": "code",
   "execution_count": null,
   "metadata": {},
   "outputs": [],
   "source": [
    "加载背景音乐\n",
    "播放背景音乐()\n",
    "我方飞机诞生\n",
    "while True:\n",
    "    if 用户是否点击了关闭按钮:\n",
    "        退出程序\n",
    "\n",
    "    小飞机诞生\n",
    "    小飞机移动一个位置\n",
    "    屏幕刷新\n",
    "\n",
    "    if 用户鼠标产生移动:\n",
    "        我方飞机中心位置 = 用户鼠标位置\n",
    "        屏幕刷新\n",
    "\n",
    "    if 我方飞机与小飞机碰撞:\n",
    "        我方挂，播放撞击音乐\n",
    "        修改我方飞机图案\n",
    "        打印“Gameover”\n",
    "        停止音乐，最好淡出"
   ]
  },
  {
   "cell_type": "markdown",
   "metadata": {},
   "source": [
    "# 列表\n",
    "1. 元素类型：整数，浮点数，字符串，对象\n",
    "2. 列表类型：普通列表，混合列表\n",
    "3. 像列表添加元素：append,insert,extend,\n",
    "4. 列表的第一个元素位置是0"
   ]
  },
  {
   "cell_type": "code",
   "execution_count": 103,
   "metadata": {},
   "outputs": [
    {
     "data": {
      "text/plain": [
       "['__add__',\n",
       " '__class__',\n",
       " '__contains__',\n",
       " '__delattr__',\n",
       " '__delitem__',\n",
       " '__dir__',\n",
       " '__doc__',\n",
       " '__eq__',\n",
       " '__format__',\n",
       " '__ge__',\n",
       " '__getattribute__',\n",
       " '__getitem__',\n",
       " '__gt__',\n",
       " '__hash__',\n",
       " '__iadd__',\n",
       " '__imul__',\n",
       " '__init__',\n",
       " '__init_subclass__',\n",
       " '__iter__',\n",
       " '__le__',\n",
       " '__len__',\n",
       " '__lt__',\n",
       " '__mul__',\n",
       " '__ne__',\n",
       " '__new__',\n",
       " '__reduce__',\n",
       " '__reduce_ex__',\n",
       " '__repr__',\n",
       " '__reversed__',\n",
       " '__rmul__',\n",
       " '__setattr__',\n",
       " '__setitem__',\n",
       " '__sizeof__',\n",
       " '__str__',\n",
       " '__subclasshook__',\n",
       " 'append',\n",
       " 'clear',\n",
       " 'copy',\n",
       " 'count',\n",
       " 'extend',\n",
       " 'index',\n",
       " 'insert',\n",
       " 'pop',\n",
       " 'remove',\n",
       " 'reverse',\n",
       " 'sort']"
      ]
     },
     "execution_count": 103,
     "metadata": {},
     "output_type": "execute_result"
    }
   ],
   "source": [
    "dir(list)"
   ]
  },
  {
   "cell_type": "code",
   "execution_count": 83,
   "metadata": {},
   "outputs": [
    {
     "name": "stdout",
     "output_type": "stream",
     "text": [
      "len: 9\n",
      "menber: ['jingjing', 'a', 'b', 'c', [1, 2, 3], 2, 'huluwa', 'ls', 'lala']\n"
     ]
    },
    {
     "data": {
      "text/plain": [
       "'a'"
      ]
     },
     "execution_count": 83,
     "metadata": {},
     "output_type": "execute_result"
    }
   ],
   "source": [
    "# 创建一个列表: 普通，混合, 向列表添加元素，扩展列表，插入元素到指定位置\n",
    "member = ['a', 'b', 'c', [1,2,3]]\n",
    "member.append(2)\n",
    "member.append('huluwa') # 在列表末尾插入一个元素\n",
    "member.extend(['ls', 'lala']) # 用一个列表扩展另一个列表\n",
    "member.insert(0, 'jingjing') # 像第一个位置插入一个元素\n",
    "print('len:', len(member))\n",
    "print('menber:',member)\n",
    "member[1] # 访问指定位置元素"
   ]
  },
  {
   "cell_type": "markdown",
   "metadata": {},
   "source": [
    "## 删除元素\n",
    "1. remove: 直接输入要删除的元素 member.remove('lala')\n",
    "2. del: 删除一个元素：del(member[0]), 删除整个列表：del memeber\n",
    "3. pop: 从末尾删除, 有返回值\n"
   ]
  },
  {
   "cell_type": "code",
   "execution_count": 90,
   "metadata": {},
   "outputs": [
    {
     "name": "stdout",
     "output_type": "stream",
     "text": [
      "menber: ['jingjing', 'a', 'c', [1, 2, 3], 2, 'huluwa']\n"
     ]
    }
   ],
   "source": [
    "print('menber:',member)"
   ]
  },
  {
   "cell_type": "code",
   "execution_count": 91,
   "metadata": {},
   "outputs": [
    {
     "name": "stdout",
     "output_type": "stream",
     "text": [
      "menber: ['a', 'c', 2]\n"
     ]
    }
   ],
   "source": [
    "# member.remove('ls')\n",
    "# del member[0]\n",
    "member.pop() # 从末尾删除\n",
    "member.pop(0) # 从索引值位置删除\n",
    "member.pop(2) # 从索引值位置删除\n",
    "\n",
    "print('menber:',member)"
   ]
  },
  {
   "cell_type": "markdown",
   "metadata": {},
   "source": [
    "## 列表操作\n",
    "1. 切片slice\n",
    "2. 拼接 +：两边的类型相同\n",
    "3. 比较\n",
    "4. 重复操作符：*\n",
    "5. in, not in"
   ]
  },
  {
   "cell_type": "code",
   "execution_count": 98,
   "metadata": {},
   "outputs": [
    {
     "data": {
      "text/plain": [
       "['a', 'b', 'c', [1, 2, 3], 'a', 'b', 'c', [1, 2, 3], 'a', 'b', 'c', [1, 2, 3]]"
      ]
     },
     "execution_count": 98,
     "metadata": {},
     "output_type": "execute_result"
    }
   ],
   "source": [
    "member = ['a', 'b', 'c', [1,2,3]]\n",
    "member[1:2] # 左闭右开, 从位置1开始走两个\n",
    "#可以省略元素\n",
    "member[:] # member的拷贝"
   ]
  },
  {
   "cell_type": "code",
   "execution_count": 101,
   "metadata": {},
   "outputs": [
    {
     "data": {
      "text/plain": [
       "['a', 'b', 'c', [1, 2, 3]]"
      ]
     },
     "execution_count": 101,
     "metadata": {},
     "output_type": "execute_result"
    }
   ],
   "source": [
    "member * 3"
   ]
  },
  {
   "cell_type": "code",
   "execution_count": 102,
   "metadata": {},
   "outputs": [
    {
     "data": {
      "text/plain": [
       "True"
      ]
     },
     "execution_count": 102,
     "metadata": {},
     "output_type": "execute_result"
    }
   ],
   "source": [
    "1 in member[3]"
   ]
  },
  {
   "cell_type": "code",
   "execution_count": 108,
   "metadata": {},
   "outputs": [],
   "source": [
    "list = [9,2,2,3,7,5]\n",
    "list.count(2)\n",
    "list.index(2)"
   ]
  },
  {
   "cell_type": "code",
   "execution_count": 112,
   "metadata": {},
   "outputs": [
    {
     "data": {
      "text/plain": [
       "[1, 2, 2, 3, 4, 5]"
      ]
     },
     "execution_count": 112,
     "metadata": {},
     "output_type": "execute_result"
    }
   ],
   "source": [
    "list.reverse()\n",
    "list"
   ]
  },
  {
   "cell_type": "code",
   "execution_count": 115,
   "metadata": {},
   "outputs": [
    {
     "name": "stdout",
     "output_type": "stream",
     "text": [
      "Help on built-in function sort:\n",
      "\n",
      "sort(*, key=None, reverse=False) method of builtins.list instance\n",
      "    Stable sort *IN PLACE*.\n",
      "\n"
     ]
    }
   ],
   "source": [
    "help(list.sort)"
   ]
  },
  {
   "cell_type": "code",
   "execution_count": 116,
   "metadata": {},
   "outputs": [
    {
     "data": {
      "text/plain": [
       "[5, 4, 3, 2, 2, 1]"
      ]
     },
     "execution_count": 116,
     "metadata": {},
     "output_type": "execute_result"
    }
   ],
   "source": [
    "list.sort() # 默认为false\n",
    "list.sort(reverse=True)\n",
    "list"
   ]
  },
  {
   "cell_type": "code",
   "execution_count": 117,
   "metadata": {},
   "outputs": [
    {
     "data": {
      "text/plain": [
       "[5, 4, 3, 2, 2, 1]"
      ]
     },
     "execution_count": 117,
     "metadata": {},
     "output_type": "execute_result"
    }
   ],
   "source": [
    "list1 = list\n",
    "list1"
   ]
  },
  {
   "cell_type": "markdown",
   "metadata": {},
   "source": [
    "# 元组\n",
    "不能修改其中元素"
   ]
  },
  {
   "cell_type": "code",
   "execution_count": 1,
   "metadata": {},
   "outputs": [],
   "source": [
    "tuple1 = (1,2,3,4,5,6)"
   ]
  },
  {
   "cell_type": "code",
   "execution_count": 2,
   "metadata": {},
   "outputs": [
    {
     "data": {
      "text/plain": [
       "2"
      ]
     },
     "execution_count": 2,
     "metadata": {},
     "output_type": "execute_result"
    }
   ],
   "source": [
    "tuple1[1]"
   ]
  },
  {
   "cell_type": "code",
   "execution_count": 8,
   "metadata": {},
   "outputs": [
    {
     "data": {
      "text/plain": [
       "(2, 3, 4, 5)"
      ]
     },
     "execution_count": 8,
     "metadata": {},
     "output_type": "execute_result"
    }
   ],
   "source": [
    "tuple1[1:5]"
   ]
  },
  {
   "cell_type": "markdown",
   "metadata": {},
   "source": [
    "# 字符串内置方法\n",
    "https://www.cnblogs.com/shenbuer/p/7833953.html\n",
    "1. 字符串格式化字符\n",
    "\n",
    "%o: 8进制\n",
    "%x: 16进制 x小写 X大写\n",
    "%f: 默认6位\n",
    "%e: 科学计数法\n",
    "%g:\n",
    "\n"
   ]
  },
  {
   "cell_type": "code",
   "execution_count": 10,
   "metadata": {},
   "outputs": [],
   "source": [
    "str1 = 'I have a pen'"
   ]
  },
  {
   "cell_type": "code",
   "execution_count": 14,
   "metadata": {},
   "outputs": [
    {
     "data": {
      "text/plain": [
       "'I have'"
      ]
     },
     "execution_count": 14,
     "metadata": {},
     "output_type": "execute_result"
    }
   ],
   "source": [
    "str1[0:6]"
   ]
  },
  {
   "cell_type": "code",
   "execution_count": 15,
   "metadata": {},
   "outputs": [
    {
     "data": {
      "text/plain": [
       "'I have a pen'"
      ]
     },
     "execution_count": 15,
     "metadata": {},
     "output_type": "execute_result"
    }
   ],
   "source": [
    "\"{0} have {1} {2}\".format(\"I\", \"a\", 'pen')"
   ]
  },
  {
   "cell_type": "code",
   "execution_count": 16,
   "metadata": {},
   "outputs": [
    {
     "data": {
      "text/plain": [
       "'{0}'"
      ]
     },
     "execution_count": 16,
     "metadata": {},
     "output_type": "execute_result"
    }
   ],
   "source": [
    "\"{{0}}\".format(\"lala\")"
   ]
  },
  {
   "cell_type": "code",
   "execution_count": 19,
   "metadata": {},
   "outputs": [
    {
     "data": {
      "text/plain": [
       "'4 + 5 = 9'"
      ]
     },
     "execution_count": 19,
     "metadata": {},
     "output_type": "execute_result"
    }
   ],
   "source": [
    "'%c %c %c' % (97, 98, 99)\n",
    "'%s' % \"sjdsjdk\"\n",
    "'%d + %d = %d' %(4, 5, 9)\n"
   ]
  },
  {
   "cell_type": "markdown",
   "metadata": {},
   "source": [
    "### 面向对象(OO=object oriented)的python\n",
    "* 对象 = 属性+方法  特征：封装，继承，多态\n",
    "* 封装：\n",
    "* 继承：子类自动共享父类之间的数据和方法的机制"
   ]
  },
  {
   "cell_type": "code",
   "execution_count": 4,
   "metadata": {},
   "outputs": [
    {
     "name": "stdout",
     "output_type": "stream",
     "text": [
      "[5, 3, 7]\n",
      "[3, 5, 7]\n",
      "I am A\n",
      "I am B\n"
     ]
    }
   ],
   "source": [
    "\n",
    "class Mylist(list):\n",
    "    pass\n",
    "list2 = Mylist()\n",
    "list2.append(5)\n",
    "list2.append(3)\n",
    "list2.append(7)\n",
    "print(list2)\n",
    "list2.sort()\n",
    "print(list2)\n",
    "# 多态：不同对象对同一方法(名字相同)响应不同的行动\n",
    "class A:\n",
    "    def fun(self):\n",
    "        print(\"I am A\")\n",
    "class B:\n",
    "    def fun(self):\n",
    "        print(\"I am B\")\n",
    "\n",
    "a = A()\n",
    "b = B()\n",
    "a.fun()\n",
    "b.fun()"
   ]
  },
  {
   "cell_type": "markdown",
   "metadata": {},
   "source": [
    "### python的魔法方法\n",
    "python的self相当于C++的this指针\n",
    "__init__(slef, para1, para2)"
   ]
  },
  {
   "cell_type": "code",
   "execution_count": 17,
   "metadata": {},
   "outputs": [],
   "source": [
    "class Ball:\n",
    "    def __init__(self, name):\n",
    "        self.name = name\n",
    "    def kick(self):\n",
    "        print(\"%s\"%self.name)"
   ]
  },
  {
   "cell_type": "code",
   "execution_count": 21,
   "metadata": {},
   "outputs": [
    {
     "name": "stdout",
     "output_type": "stream",
     "text": [
      "A\n"
     ]
    }
   ],
   "source": [
    "a = Ball(\"A\")\n",
    "# b = Ball()\n",
    "# b.setName(\"B\")\n",
    "# c = Ball()\n",
    "# c.setName(\"C\")\n",
    "a.kick()\n",
    "# b.kick()\n",
    "# c.kick()"
   ]
  },
  {
   "cell_type": "markdown",
   "metadata": {},
   "source": []
  },
  {
   "cell_type": "markdown",
   "metadata": {},
   "source": [
    "### 公有和私有？\n",
    "name mangling 名字改编\n",
    "在python中定义私有变量只需要在变量名或函数名前加上“__\"两个下划线，\n",
    "那么这个函数或变量就会变为私有的了\n"
   ]
  },
  {
   "cell_type": "code",
   "execution_count": 26,
   "metadata": {},
   "outputs": [],
   "source": [
    "\n",
    "class Person:\n",
    "    __name = \"Fish\"\n",
    "    def getNmae(self):\n",
    "        return self.__name\n",
    "\n",
    "p = Person()\n",
    "p.__name"
   ]
  },
  {
   "cell_type": "code",
   "execution_count": 27,
   "metadata": {},
   "outputs": [
    {
     "data": {
      "text/plain": [
       "'Fish'"
      ]
     },
     "execution_count": 27,
     "metadata": {},
     "output_type": "execute_result"
    }
   ],
   "source": [
    "p.getNmae()"
   ]
  },
  {
   "cell_type": "code",
   "execution_count": null,
   "metadata": {},
   "outputs": [],
   "source": []
  }
 ],
 "metadata": {
  "interpreter": {
   "hash": "31f2aee4e71d21fbe5cf8b01ff0e069b9275f58929596ceb00d14d90e3e16cd6"
  },
  "kernelspec": {
   "display_name": "Python 3",
   "language": "python",
   "name": "python3"
  },
  "language_info": {
   "codemirror_mode": {
    "name": "ipython",
    "version": 3
   },
   "file_extension": ".py",
   "mimetype": "text/x-python",
   "name": "python",
   "nbconvert_exporter": "python",
   "pygments_lexer": "ipython3",
   "version": "3.7.2"
  }
 },
 "nbformat": 4,
 "nbformat_minor": 2
}
